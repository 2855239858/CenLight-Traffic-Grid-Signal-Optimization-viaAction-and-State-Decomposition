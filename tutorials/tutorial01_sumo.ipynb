{
 "cells": [
  {
   "cell_type": "markdown",
   "metadata": {},
   "source": [
    "# Tutorial 01: Running Sumo Simulations\n",
    "\n",
    "This tutorial walks through the process of running non-RL traffic simulations in Flow. Simulations of this form act as non-autonomous baselines and depict the behavior of human dynamics on a network. Similar simulations may also be used to evaluate the performance of hand-designed controllers on a network. This tutorial focuses primarily on the former use case, while an example of the latter may be found in `tutorial09_controllers.ipynb`.\n",
    "\n",
    "本教程将介绍在流中运行非rl流量模拟的过程。这种形式的模拟作为非自主的基线，描述了网络上人类动态的行为。类似的模拟也可用于评估网络上手工设计控制器的性能。本教程主要关注前一种用例，而后一种用例的例子可以在\n",
    "\n",
    "In this tutorial, we simulate a initially perturbed single lane ring road. We witness in simulation that as time advances the initially perturbations do not dissipate, but instead propagates and expands until vehicles are forced to periodically stop and accelerate. For more information on this behavior, we refer the reader to the following article [1].\n",
    "\n",
    "在本教程中，我们模拟了一个初始扰动的单车道环路。我们在模拟中看到，随着时间的推移，最初的扰动并不消散，而是传播和扩展，直到车辆被迫周期性地停止和加速。有关此行为的更多信息，请读者参阅以下文章\n",
    "\n",
    "## 1. Components of a Simulation 模拟元件\n",
    "All simulations, both in the presence and absence of RL, require two components: a *network*, and an *environment*. Networks describe the features of the transportation network used in simulation. This includes the positions and properties of nodes and edges constituting the lanes and junctions, as well as properties of the vehicles, traffic lights, inflows, etc. in the network. Environments, on the other hand, initialize, reset, and advance simulations, and act the primary interface between the reinforcement learning algorithm and the network. Moreover, custom environments may be used to modify the dynamical features of an network.\n",
    "\n",
    "所有的模拟，无论是否存在RL，都需要两个组件:一个“网络”和一个“环境”。网络描述了用于模拟的交通网络的特征。这包括构成车道和路口的节点和边缘的位置和属性，以及车辆、红绿灯、流入量等在网络中的属性。环境，另一方面，初始化，重置，并推进模拟，并充当加强学习算法和网络之间的主要接口。此外，可以使用自定义环境来修改网络的动态特性。\n",
    "\n",
    "## 2. Setting up a Network 建立网络\n",
    "Flow contains a plethora of pre-designed networks used to replicate highways, intersections, and merges in both closed and open settings. All these networks are located in `flow/networks`. In order to recreate a ring road network, we begin by importing the network `RingNetwork`.\n",
    "\n",
    "Flow包含大量预先设计的网络，用于在封闭和开放环境中复制高速公路、十字路口和合并。所有这些网络都位于“flow/networks”中。为了重建一个环形道路网络，我们从导入网络“Ringetwork”开始。"
   ]
  },
  {
   "cell_type": "code",
   "execution_count": null,
   "metadata": {},
   "outputs": [],
   "source": [
    "from flow.networks.ring import RingNetwork"
   ]
  },
  {
   "cell_type": "markdown",
   "metadata": {},
   "source": [
    "This network, as well as all other networks in Flow, is parametrized by the following arguments: \n",
    "\n",
    "这个网络，以及Flow中的所有其他网络，都是由以下参数参数化的:\n",
    "\n",
    "* name             \n",
    "* vehicles\n",
    "* net_params\n",
    "* initial_config\n",
    "* traffic_lights\n",
    "\n",
    "These parameters allow a single network to be recycled for a multitude of different network settings. For example, `RingNetwork` may be used to create ring roads of variable length with a variable number of lanes and vehicles.\n",
    "\n",
    "这些参数允许将单个网络用于多种不同的网络设置。例如，“环形网络”可用于创建长度可变、车道和车辆数量可变的环形道路。\n",
    "\n",
    "### 2.1 Name\n",
    "The `name` argument is a string variable depicting the name of the network. This has no effect on the type of network created.\n",
    "\n",
    "参数“name”是描述网络名称的字符串变量。这对创建的网络类型没有影响。"
   ]
  },
  {
   "cell_type": "code",
   "execution_count": null,
   "metadata": {},
   "outputs": [],
   "source": [
    "name = \"ring_example\""
   ]
  },
  {
   "cell_type": "markdown",
   "metadata": {},
   "source": [
    "### 2.2 VehicleParams\n",
    "The `VehicleParams` class stores state information on all vehicles in the network. This class is used to identify the dynamical behavior of a vehicle and whether it is controlled by a reinforcement learning agent. Morover, information pertaining to the observations and reward function can be collected from various get methods within this class.\n",
    "\n",
    "VehicleParams类存储网络中所有车辆的状态信息。该类用于识别车辆的动力学行为，以及车辆是否由强化学习代理控制。Morover，与观察和奖励函数相关的信息可以从这个类中的各种get方法中收集。\n",
    "\n",
    "The initial configuration of this class describes the number of vehicles in the network at the start of every simulation, as well as the properties of these vehicles. We begin by creating an empty `VehicleParams` object.\n",
    "\n",
    "该类的初始配置描述了在每次模拟开始时网络中的车辆数量，以及这些车辆的属性。我们首先创建一个空的“VehicleParams”对象。"
   ]
  },
  {
   "cell_type": "code",
   "execution_count": null,
   "metadata": {},
   "outputs": [],
   "source": [
    "from flow.core.params import VehicleParams\n",
    "\n",
    "vehicles = VehicleParams()"
   ]
  },
  {
   "cell_type": "markdown",
   "metadata": {},
   "source": [
    "Once this object is created, vehicles may be introduced using the `add` method. This method specifies the types and quantities of vehicles at the start of a simulation rollout. For a description of the various arguements associated with the `add` method, we refer the reader to the following documentation ([VehicleParams.add](https://flow.readthedocs.io/en/latest/flow.core.html?highlight=vehicleparam#flow.core.params.VehicleParams)).\n",
    "\n",
    "创建此对象后，可以使用add方法引入车辆。此方法在模拟部署开始时指定车辆的类型和数量。对于与add方法相关的各种争论的描述，我们建议读者参考以下文档(vehicleparms .add)。\n",
    "\n",
    "When adding vehicles, their dynamical behaviors may be specified either by the simulator (default), or by user-generated models. For longitudinal (acceleration) dynamics, several prominent car-following models are implemented in Flow. For this example, the acceleration behavior of all vehicles will be defined by the Intelligent Driver Model (IDM) [2].\n",
    "\n",
    "当添加车辆时，它们的动力学行为可以通过模拟器(默认)或用户生成的模型来指定。对于纵向(加速度)动力学，几个著名的汽车跟踪模型在流中实现。在本例中，所有车辆的加速行为将由智能驾驶员模型(IDM)定义"
   ]
  },
  {
   "cell_type": "code",
   "execution_count": null,
   "metadata": {},
   "outputs": [],
   "source": [
    "from flow.controllers.car_following_models import IDMController"
   ]
  },
  {
   "cell_type": "markdown",
   "metadata": {},
   "source": [
    "Another controller we define is for the vehicle's routing behavior. For closed network where the route for any vehicle is repeated, the `ContinuousRouter` controller is used to perpetually reroute all vehicles to the initial set route.\n",
    "\n",
    "我们定义的另一个控制器用于车辆的路由行为。对于任何车辆路线重复的封闭网络，“连续路由器”控制器用于永久地将所有车辆重新路由到初始设定的路线。"
   ]
  },
  {
   "cell_type": "code",
   "execution_count": null,
   "metadata": {},
   "outputs": [],
   "source": [
    "from flow.controllers.routing_controllers import ContinuousRouter"
   ]
  },
  {
   "cell_type": "markdown",
   "metadata": {},
   "source": [
    "Finally, we add 22 vehicles of type \"human\" with the above acceleration and routing behavior into the `Vehicles` class.\n",
    "\n",
    "最后，我们将具有上述加速和路由行为的22辆“人”型车辆添加到“车辆”类中。"
   ]
  },
  {
   "cell_type": "code",
   "execution_count": null,
   "metadata": {},
   "outputs": [],
   "source": [
    "vehicles.add(\"human\",\n",
    "             acceleration_controller=(IDMController, {}),\n",
    "             routing_controller=(ContinuousRouter, {}),\n",
    "             num_vehicles=22)"
   ]
  },
  {
   "cell_type": "markdown",
   "metadata": {},
   "source": [
    "### 2.3 NetParams\n",
    "\n",
    "`NetParams` are network-specific parameters used to define the shape and properties of a network. Unlike most other parameters, `NetParams` may vary drastically depending on the specific network configuration, and accordingly most of its parameters are stored in `additional_params`. In order to determine which `additional_params` variables may be needed for a specific network, we refer to the `ADDITIONAL_NET_PARAMS` variable located in the network file.\n",
    "\n",
    "“网络参数”是特定于网络的参数，用于定义网络的形状和属性。与大多数其他参数不同，“NetParams”可能会根据特定的网络配置发生巨大变化，因此它的大多数参数都存储在“additional_params”中。为了确定某个特定网络可能需要哪些“additional_params”变量，我们引用位于网络文件中的“ADDITIONAL_NET_PARAMS”变量。"
   ]
  },
  {
   "cell_type": "code",
   "execution_count": null,
   "metadata": {},
   "outputs": [],
   "source": [
    "from flow.networks.ring import ADDITIONAL_NET_PARAMS\n",
    "\n",
    "print(ADDITIONAL_NET_PARAMS)"
   ]
  },
  {
   "cell_type": "markdown",
   "metadata": {},
   "source": [
    "Importing the `ADDITIONAL_NET_PARAMS` dictionary from the ring road network, we see that the required parameters are:\n",
    "\n",
    "从环线路网导入‘ADDITIONAL_NET_PARAMS’字典，我们看到需要的参数是:\n",
    "\n",
    "* **length**: length of the ring road\n",
    "* **lanes**: number of lanes\n",
    "* **speed**: speed limit for all edges\n",
    "* **resolution**: resolution of the curves on the ring. Setting this value to 1 converts the ring to a diamond.\n",
    "\n",
    "\n",
    "At times, other inputs may be needed from `NetParams` to recreate proper network features/behavior. These requirements can be found in the network's documentation. For the ring road, no attributes are needed aside from the `additional_params` terms. Furthermore, for this tutorial, we use the network's default parameters when creating the `NetParams` object.\n",
    "\n",
    "有时，可能需要“NetParams”的其他输入来重新创建适当的网络特性/行为。这些要求可以在网络的文档中找到。对于环路，除了‘additional_params’项外，不需要任何属性。此外，在本教程中，我们在创建“NetParams”对象时使用网络的默认参数。"
   ]
  },
  {
   "cell_type": "code",
   "execution_count": null,
   "metadata": {},
   "outputs": [],
   "source": [
    "from flow.core.params import NetParams\n",
    "\n",
    "net_params = NetParams(additional_params=ADDITIONAL_NET_PARAMS)"
   ]
  },
  {
   "cell_type": "markdown",
   "metadata": {},
   "source": [
    "### 2.4 InitialConfig\n",
    "\n",
    "`InitialConfig` specifies parameters that affect the positioning of vehicle in the network at the start of a simulation. These parameters can be used to limit the edges and number of lanes vehicles originally occupy, and provide a means of adding randomness to the starting positions of vehicles. In order to introduce a small initial disturbance to the system of vehicles in the network, we set the `perturbation` term in `InitialConfig` to 1m.\n",
    "\n",
    "“InitialConfig”指定在模拟开始时影响车辆在网络中的定位的参数。这些参数可以用来限制车辆原本占据的车道的边缘和数量，并为车辆的起始位置提供了一种增加随机性的方法。为了给网络中的车辆系统引入一个小的初始扰动，我们将InitialConfig中的扰动项设置为1m。"
   ]
  },
  {
   "cell_type": "code",
   "execution_count": null,
   "metadata": {},
   "outputs": [],
   "source": [
    "from flow.core.params import InitialConfig\n",
    "\n",
    "initial_config = InitialConfig(spacing=\"uniform\", perturbation=1)"
   ]
  },
  {
   "cell_type": "markdown",
   "metadata": {},
   "source": [
    "### 2.5 TrafficLightParams\n",
    "\n",
    "`TrafficLightParams` are used to describe the positions and types of traffic lights in the network. These inputs are outside the scope of this tutorial, and instead are covered in `tutorial10_traffic_lights.ipynb`. For our example, we create an empty `TrafficLightParams` object, thereby ensuring that none are placed on any nodes.\n",
    "\n",
    "“红绿灯参数”用来描述交通灯在网络中的位置和类型。这些输入超出了本教程的范围，在“tutorial10_traffic_lights.ipynb”中进行了介绍。在我们的示例中，我们创建了一个空的“TrafficLightParams”对象，从而确保没有一个对象被放置在任何节点上。"
   ]
  },
  {
   "cell_type": "code",
   "execution_count": null,
   "metadata": {},
   "outputs": [],
   "source": [
    "from flow.core.params import TrafficLightParams\n",
    "\n",
    "traffic_lights = TrafficLightParams()"
   ]
  },
  {
   "cell_type": "markdown",
   "metadata": {},
   "source": [
    "## 3. Setting up an Environment\n",
    "\n",
    "Several envionrments in Flow exist to train autonomous agents of different forms (e.g. autonomous vehicles, traffic lights) to perform a variety of different tasks. These environments are often network- or task-specific; however, some can be deployed on an ambiguous set of networks as well. One such environment, `AccelEnv`, may be used to train a variable number of vehicles in a fully observable network with a *static* number of vehicles.\n",
    "\n",
    "在flow的几个环境中存在着训练不同形式的自主代理人(如自动车辆、红绿灯)执行各种不同的任务。这些环境通常是特定于网络或任务的;然而，一些也可以部署在一组模糊的网络上。一个这样的环境，‘AccelEnv’，可以用于在一个完全可观察的网络中训练可变数量的车辆，该网络具有*静态*车辆数量。"
   ]
  },
  {
   "cell_type": "code",
   "execution_count": null,
   "metadata": {},
   "outputs": [],
   "source": [
    "from flow.envs.ring.accel import AccelEnv"
   ]
  },
  {
   "cell_type": "markdown",
   "metadata": {},
   "source": [
    "Although we will not be training any autonomous agents in this tutorial, the use of an environment allows us to view the cumulative reward simulation rollouts receive in the absence of autonomy.\n",
    "\n",
    "虽然在本教程中我们不会培训任何自主的代理，但是环境的使用允许我们查看在缺乏自主的情况下获得的累积奖励。\n",
    "\n",
    "Envrionments in Flow are parametrized by several components, including the following attributes:\n",
    "\n",
    "Flow中的Envrionments由几个组件参数化，包括以下属性:\n",
    "\n",
    "* `sim_params`\n",
    "* `env_params`\n",
    "* `network`\n",
    "* `net_params`\n",
    "* `initial_config`\n",
    "* `network`\n",
    "* `simulator`\n",
    "\n",
    "where `sim_params`, `env_params`, and `network` are the primary parameters of an environment. For the full list of attributes, please check `class Env` in `flow/envs/base.py`.\n",
    "\n",
    "其中‘sim_params’、‘env_params’和‘network’是环境的主要参数。要查看完整的属性列表，请查看“flow/envs/base.py”中的“class Env”。\n",
    "\n",
    "Sumo envrionments in Flow are parametrized by three components:\n",
    "\n",
    "流中的sumo环境由三个部分参数化:\n",
    "* `SumoParams`\n",
    "* `EnvParams`\n",
    "* `Network`\n",
    "\n",
    "### 3.1 SumoParams\n",
    "`SumoParams` and `AimsunParams` are the variables related to SUMO and Aimsun simulator, respectively). These variables maay include the length a simulation step (in seconds), whether to render the GUI when running the experiment, and other variables. For this example, we consider a SUMO simulation, step length of 0.1s, and activate the GUI.\n",
    "\n",
    "“SumoParams”指定了特定于模拟的变量(例如。‘SumoParams’和‘AimsunParams’分别是与sumo和Aimsun模拟器相关的变量)。这些变量可能包括模拟步骤的长度(以秒为单位)、在运行实验时是否呈现GUI以及其他变量。对于本例，我们考虑一个相扑模拟，步长为0.1s，然后激活GUI。\n",
    "\n",
    "Another useful parameter is `emission_path`, which is used to specify the path where the emissions output will be generated. They contain a lot of information about the simulation, for instance the position and speed of each car at each time step. If you do not specify any emission path, the emission file will not be generated. More on this in Section 5.\n",
    "\n",
    "另一个有用的参数是“emission_path”，它用于指定生成排放输出的路径。它们包含许多关于模拟的信息，例如每一辆车在每一时刻的位置和速度。如果不指定任何发射路径，将不会生成发射文件。更多信息请参见第5部分。"
   ]
  },
  {
   "cell_type": "code",
   "execution_count": null,
   "metadata": {},
   "outputs": [],
   "source": [
    "from flow.core.params import SumoParams\n",
    "\n",
    "sim_params = SumoParams(sim_step=0.1, render=True, emission_path='data')"
   ]
  },
  {
   "cell_type": "markdown",
   "metadata": {},
   "source": [
    "### 3.2 EnvParams\n",
    "\n",
    "`EnvParams` specify environment and experiment-specific parameters that either affect the training process or the dynamics of various components within the network. Much like `NetParams`, the attributes associated with this parameter are mostly environment-specific, and can be found in the environment's `ADDITIONAL_ENV_PARAMS` dictionary.\n",
    "\n",
    "“EnvParams”指定环境和实验特定的参数，这些参数或影响训练过程，或影响网络中各种组件的动态。与“NetParams”非常相似，与此参数相关的属性大部分是特定于环境的，可以在环境的“ADDITIONAL_ENV_PARAMS”字典中找到。"
   ]
  },
  {
   "cell_type": "code",
   "execution_count": null,
   "metadata": {},
   "outputs": [],
   "source": [
    "from flow.envs.ring.accel import ADDITIONAL_ENV_PARAMS\n",
    "\n",
    "print(ADDITIONAL_ENV_PARAMS)"
   ]
  },
  {
   "cell_type": "markdown",
   "metadata": {},
   "source": [
    "Importing the `ADDITIONAL_ENV_PARAMS` variable, we see that it consists of only one entry, \"target_velocity\", which is used when computing the reward function associated with the environment. We use this default value when generating the `EnvParams` object.\n",
    "\n",
    "导入‘ADDITIONAL_ENV_PARAMS’变量，我们看到它只包含一个条目，“target_velocity”，这是在计算与环境相关的奖励函数时使用的。我们在生成' EnvParams '对象时使用这个默认值。"
   ]
  },
  {
   "cell_type": "code",
   "execution_count": null,
   "metadata": {},
   "outputs": [],
   "source": [
    "from flow.core.params import EnvParams\n",
    "\n",
    "env_params = EnvParams(additional_params=ADDITIONAL_ENV_PARAMS)"
   ]
  },
  {
   "cell_type": "markdown",
   "metadata": {},
   "source": [
    "## 4. Setting up and Running the Experiment\n",
    "Once the inputs to the network and environment classes are ready, we are ready to set up a `Experiment` object.\n",
    "\n",
    "一旦网络和环境类的输入就绪，我们就可以设置一个“实验”对象。"
   ]
  },
  {
   "cell_type": "code",
   "execution_count": null,
   "metadata": {},
   "outputs": [],
   "source": [
    "from flow.core.experiment import Experiment"
   ]
  },
  {
   "cell_type": "markdown",
   "metadata": {},
   "source": [
    "This object may be used to simulate rollouts in the absence of reinforcement learning agents, as well as acquire behaviors and rewards that may be used as a baseline with which to compare the performance of the learning agent. In this case, we choose to run our experiment for one rollout consisting of 3000 steps (300 s).\n",
    "\n",
    "该对象可用于在没有强化学习代理的情况下模拟滚动，以及获取可作为比较学习代理性能基准的行为和奖励。在本例中，我们选择对一个包含3000步(300秒)的rollout运行我们的实验。\n",
    "\n",
    "**Note**: When executing the below code, remeber to click on the    <img style=\"display:inline;\" src=\"img/play_button.png\"> Play button after the GUI is rendered.\n",
    "\n",
    "注意:在执行以下代码时，请记住在GUI呈现后单击Play按钮。"
   ]
  },
  {
   "cell_type": "code",
   "execution_count": null,
   "metadata": {},
   "outputs": [],
   "source": [
    "flow_params = dict(\n",
    "    exp_tag='ring_example',\n",
    "    env_name=AccelEnv,\n",
    "    network=RingNetwork,\n",
    "    simulator='traci',\n",
    "    sim=sim_params,\n",
    "    env=env_params,\n",
    "    net=net_params,\n",
    "    veh=vehicles,\n",
    "    initial=initial_config,\n",
    "    tls=traffic_lights,\n",
    ")\n",
    "\n",
    "# number of time steps\n",
    "flow_params['env'].horizon = 3000\n",
    "exp = Experiment(flow_params)\n",
    "\n",
    "# run the sumo simulation\n",
    "_ = exp.run(1, convert_to_csv=True)"
   ]
  },
  {
   "cell_type": "markdown",
   "metadata": {},
   "source": [
    "As we can see from the above simulation, the initial perturbations in the network instabilities propogate and intensify, eventually leading to the formation of stop-and-go waves after approximately 180s.\n",
    "\n",
    "从以上的模拟中我们可以看出，网络失稳的初始扰动加剧，最终在大约180秒后形成了走走停停的波形。\n",
    "\n",
    "## 5. Visualizing Post-Simulation\n",
    "\n",
    "Once the simulation is done, a .xml file will be generated in the location of the specified `emission_path` in `SumoParams` (assuming this parameter has been specified) under the name of the network. In our case, this is:\n",
    "\n",
    "模拟完成后，将在“SumoParams”中指定的“emission_path”(假设已经指定了此参数)的位置生成一个.xml文件，并将其命名为网络。在我们的例子中，这是:"
   ]
  },
  {
   "cell_type": "code",
   "execution_count": null,
   "metadata": {},
   "outputs": [],
   "source": [
    "import os\n",
    "\n",
    "emission_location = os.path.join(exp.env.sim_params.emission_path, exp.env.network.name)\n",
    "print(emission_location + '-emission.xml')"
   ]
  },
  {
   "cell_type": "markdown",
   "metadata": {},
   "source": [
    "The .xml file contains various vehicle-specific parameters at every time step. This information is transferred to a .csv file if the `convert_to_csv` parameter in `exp.run()` is set to True. This file looks as follows:\n",
    "\n",
    "xml文件在每一步都包含各种特定于车辆的参数。如果将exp.run()中的convert_to_csv参数设置为True，则将该信息传输到.csv文件。该文件如下:"
   ]
  },
  {
   "cell_type": "code",
   "execution_count": null,
   "metadata": {
    "scrolled": true
   },
   "outputs": [],
   "source": [
    "import pandas as pd\n",
    "\n",
    "pd.read_csv(emission_location + '-emission.csv')"
   ]
  },
  {
   "cell_type": "markdown",
   "metadata": {},
   "source": [
    "As you can see, each row contains vehicle information for a certain vehicle (specified under the *id* column) at a certain time (specified under the *time* column). These information can then be used to plot various representations of the simulation, examples of which can be found in the `flow/visualize` folder.\n",
    "\n",
    "如您所见，每行包含特定时间(在id列下指定)特定车辆的车辆信息(在time列下指定)。然后可以使用这些信息来绘制模拟的各种表示形式，示例可以在flow/visualize文件夹中找到。"
   ]
  },
  {
   "cell_type": "markdown",
   "metadata": {},
   "source": [
    "## 6. Modifying the Simulation  修改模拟\n",
    "This tutorial has walked you through running a single lane ring road experiment in Flow. As we have mentioned before, these simulations are highly parametrizable. This allows us to try different representations of the task. For example, what happens if no initial perturbations are introduced to the system of homogenous human-driven vehicles?\n",
    "\n",
    "本教程带您完成了在Flow中运行单车道环路的实验。正如我们之前提到的，这些模拟是高度可参数化的。这允许我们尝试任务的不同表示。例如，如果没有初始扰动引入同质人车系统，会发生什么?\n",
    "\n",
    "```\n",
    "initial_config = InitialConfig()\n",
    "```\n",
    "\n",
    "In addition, how does the task change in the presence of multiple lanes where vehicles can overtake one another?\n",
    "\n",
    "此外，在车辆可以相互超车的多车道情况下，任务是如何变化的?\n",
    "```\n",
    "net_params = NetParams(\n",
    "    additional_params={\n",
    "        'length': 230, \n",
    "        'lanes': 2, \n",
    "        'speed_limit': 30, \n",
    "        'resolution': 40\n",
    "    }\n",
    ")\n",
    "```\n",
    "\n",
    "Feel free to experiment with all these problems and more!\n",
    "\n",
    "可以自由地试验所有这些问题和更多!\n",
    "\n",
    "## Bibliography\n",
    "[1] Sugiyama, Yuki, et al. \"Traffic jams without bottlenecks—experimental evidence for the physical mechanism of the formation of a jam.\" New journal of physics 10.3 (2008): 033001.\n",
    "\n",
    "[2] Treiber, Martin, Ansgar Hennecke, and Dirk Helbing. \"Congested traffic states in empirical observations and microscopic simulations.\" Physical review E 62.2 (2000): 1805."
   ]
  },
  {
   "cell_type": "code",
   "execution_count": null,
   "metadata": {},
   "outputs": [],
   "source": []
  }
 ],
 "metadata": {
  "kernelspec": {
   "display_name": "Python 3",
   "language": "python",
   "name": "python3"
  },
  "language_info": {
   "codemirror_mode": {
    "name": "ipython",
    "version": 3
   },
   "file_extension": ".py",
   "mimetype": "text/x-python",
   "name": "python",
   "nbconvert_exporter": "python",
   "pygments_lexer": "ipython3",
   "version": "3.8.1"
  },
  "widgets": {
   "state": {},
   "version": "1.1.2"
  }
 },
 "nbformat": 4,
 "nbformat_minor": 1
}
